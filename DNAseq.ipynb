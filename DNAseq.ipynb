{
  "nbformat": 4,
  "nbformat_minor": 0,
  "metadata": {
    "colab": {
      "provenance": [],
      "authorship_tag": "ABX9TyO5LL5QshiKOChS/0QdOcnk",
      "include_colab_link": true
    },
    "kernelspec": {
      "name": "python3",
      "display_name": "Python 3"
    },
    "language_info": {
      "name": "python"
    }
  },
  "cells": [
    {
      "cell_type": "markdown",
      "metadata": {
        "id": "view-in-github",
        "colab_type": "text"
      },
      "source": [
        "<a href=\"https://colab.research.google.com/github/kavita2009/DNA-Scripts/blob/main/DNAseq.ipynb\" target=\"_parent\"><img src=\"https://colab.research.google.com/assets/colab-badge.svg\" alt=\"Open In Colab\"/></a>"
      ]
    },
    {
      "cell_type": "code",
      "execution_count": 114,
      "metadata": {
        "colab": {
          "base_uri": "https://localhost:8080/"
        },
        "id": "cxJhaZYIiVNe",
        "outputId": "40926e3a-4f9f-4567-a47f-89b5da3d1230"
      },
      "outputs": [
        {
          "output_type": "stream",
          "name": "stdout",
          "text": [
            "Enter your DNA sequence here: ATTGCGGATACG\n",
            "Original Sequence:       ATTGCGGATACG\n",
            "Reversed Sequence:       GCATAGGCGTTA\n",
            "Complementary Sequence:  CGTATCCGCAAT\n",
            "Enter a specific DNA sequence that you would like to search for here: CAA\n",
            "The positions of the TCA sequence are:  [9, 10, 11]\n"
          ]
        }
      ],
      "source": [
        "#Kavita Karmarkar\n",
        "#Feburary 14th, 2024\n",
        "#This program takes a DNA sequence and returns the the reversed sequence and complementary base pair sequence.\n",
        "#Furthermore, this progrma allows the user to search for a custom sequence in the reversed complementary sequence, and returns the position of each base.\n",
        "\n",
        "#Original Sequence and user input\n",
        "userSequence = str(input(\"Enter your DNA sequence here: \"))\n",
        "sequence=list(userSequence)\n",
        "\n",
        "print(\"Original Sequence:      \",\"\".join(sequence))\n",
        "\n",
        "#Reverse Sequence\n",
        "reversedSequence = []\n",
        "\n",
        "i = (len(sequence))-1\n",
        "for item in sequence:\n",
        "  letter = sequence[i]\n",
        "  reversedSequence.append(letter)\n",
        "  i=i-1\n",
        "print(\"Reversed Sequence:      \", \"\".join(reversedSequence))\n",
        "\n",
        "\n",
        "#Create Complementary Sequence\n",
        "complementarySeq = []\n",
        "complementaryBases = {\"A\":\"T\", \"T\":\"A\", \"G\":\"C\", \"C\":\"G\"}\n",
        "\n",
        "for item in reversedSequence:\n",
        "  newBase = complementaryBases[item]\n",
        "  complementarySeq.append(newBase)\n",
        "\n",
        "print(\"Complementary Sequence: \", \"\".join(complementarySeq))\n",
        "\n",
        "\n",
        "#User-Specifc DNA Search\n",
        "userSpecificSeq = list(input(\"Enter a specific DNA sequence that you would like to search for here: \"))\n",
        "specificSeq_indexes = []\n",
        "\n",
        "for i in range(len(complementarySeq)):\n",
        "  if complementarySeq[i-1:i+len(userSpecificSeq)-1] == userSpecificSeq:\n",
        "    for item in userSpecificSeq:\n",
        "      specificSeq_indexes.append(i)\n",
        "      i+=1\n",
        "#Conditional to determine if the user-specific sequence is in the reversed, complementary DNA.\n",
        "if len(specificSeq_indexes) ==0:\n",
        "  print(\"There is no, \", \"\".join(userSpecificSeq),\"sequence in your DNA. \")\n",
        "else:\n",
        "  print(\"The positions of the TCA sequence are: \", specificSeq_indexes)\n",
        "\n",
        "\n",
        "\n"
      ]
    }
  ]
}