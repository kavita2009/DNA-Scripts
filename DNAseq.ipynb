{
  "nbformat": 4,
  "nbformat_minor": 0,
  "metadata": {
    "colab": {
      "provenance": [],
      "authorship_tag": "ABX9TyOriOwd22tjaNgw3+qOxWX8",
      "include_colab_link": true
    },
    "kernelspec": {
      "name": "python3",
      "display_name": "Python 3"
    },
    "language_info": {
      "name": "python"
    }
  },
  "cells": [
    {
      "cell_type": "markdown",
      "metadata": {
        "id": "view-in-github",
        "colab_type": "text"
      },
      "source": [
        "<a href=\"https://colab.research.google.com/github/kavita2009/DNA-Scripts/blob/main/DNAseq.ipynb\" target=\"_parent\"><img src=\"https://colab.research.google.com/assets/colab-badge.svg\" alt=\"Open In Colab\"/></a>"
      ]
    },
    {
      "cell_type": "code",
      "execution_count": 116,
      "metadata": {
        "colab": {
          "base_uri": "https://localhost:8080/"
        },
        "id": "cxJhaZYIiVNe",
        "outputId": "8eb62c55-b60d-460e-d4bd-32f54743aed9"
      },
      "outputs": [
        {
          "output_type": "stream",
          "name": "stdout",
          "text": [
            "Enter your DNA sequence here: AGTGTGCAGTCATATATATAGACCA\n",
            "Original Sequence:       AGTGTGCAGTCATATATATAGACCA\n",
            "Reversed Sequence:       ACCAGATATATATACTGACGTGTGA\n",
            "Complementary Sequence:  TGGTCTATATATATGACTGCACACT\n",
            "Enter a specific DNA sequence that you would like to search for here: CTG\n",
            "The positions of the CTG sequence are: [17, 18, 19]\n"
          ]
        }
      ],
      "source": [
        "#Kavita Karmarkar\n",
        "#Feburary 14th, 2024\n",
        "#This program takes a DNA sequence and returns the the reversed sequence and complementary base pair sequence.\n",
        "#Furthermore, this progrma allows the user to search for a custom sequence in the reversed complementary sequence, and returns the position of each base.\n",
        "\n",
        "#Original Sequence and user input\n",
        "userSequence = str(input(\"Enter your DNA sequence here: \"))\n",
        "sequence=list(userSequence)\n",
        "\n",
        "print(\"Original Sequence:      \",\"\".join(sequence))\n",
        "\n",
        "#Reverse Sequence\n",
        "reversedSequence = []\n",
        "\n",
        "i = (len(sequence))-1\n",
        "for item in sequence:\n",
        "  letter = sequence[i]\n",
        "  reversedSequence.append(letter)\n",
        "  i=i-1\n",
        "print(\"Reversed Sequence:      \", \"\".join(reversedSequence))\n",
        "\n",
        "\n",
        "#Create Complementary Sequence\n",
        "complementarySeq = []\n",
        "complementaryBases = {\"A\":\"T\", \"T\":\"A\", \"G\":\"C\", \"C\":\"G\"}\n",
        "\n",
        "for item in reversedSequence:\n",
        "  newBase = complementaryBases[item]\n",
        "  complementarySeq.append(newBase)\n",
        "\n",
        "print(\"Complementary Sequence: \", \"\".join(complementarySeq))\n",
        "\n",
        "\n",
        "#User-Specifc DNA Search\n",
        "userSpecificSeq = list(input(\"Enter a specific DNA sequence that you would like to search for here: \"))\n",
        "specificSeq_indexes = []\n",
        "\n",
        "for i in range(len(complementarySeq)):\n",
        "  if complementarySeq[i-1:i+len(userSpecificSeq)-1] == userSpecificSeq:\n",
        "    for item in userSpecificSeq:\n",
        "      specificSeq_indexes.append(i)\n",
        "      i+=1\n",
        "#Conditional to determine if the user-specific sequence is in the reversed, complementary DNA.\n",
        "if len(specificSeq_indexes) ==0:\n",
        "  print(\"There is no, \", \"\".join(userSpecificSeq),\"sequence in your DNA. \")\n",
        "else:\n",
        "  print(\"The positions of the\", \"\".join(userSpecificSeq), \"sequence are:\", specificSeq_indexes)\n",
        "\n",
        "\n"
      ]
    }
  ]
}